{
 "cells": [
  {
   "cell_type": "code",
   "execution_count": 1,
   "metadata": {},
   "outputs": [],
   "source": [
    "#Imports\n",
    "\n",
    "import warnings\n",
    "warnings.filterwarnings('ignore')\n",
    "\n",
    "import pandas as pd\n",
    "import numpy as np\n",
    "import seaborn as sns\n",
    "\n",
    "import matplotlib.pyplot as plt\n",
    "%matplotlib inline\n",
    "\n",
    "from scipy import stats\n",
    "\n",
    "from sklearn import datasets\n",
    "from sklearn.preprocessing import StandardScaler, PolynomialFeatures\n",
    "from sklearn.model_selection import train_test_split, GridSearchCV, cross_val_score\n",
    "from sklearn.linear_model import BayesianRidge, LinearRegression, Ridge, Lasso, ElasticNet, SGDRegressor\n",
    "from sklearn.metrics import mean_squared_error, r2_score, mean_absolute_error\n",
    "from sklearn.ensemble import RandomForestRegressor\n",
    "from sklearn.decomposition import PCA\n",
    "\n",
    "from math import sqrt"
   ]
  },
  {
   "cell_type": "markdown",
   "metadata": {},
   "source": [
    "# Data Processing"
   ]
  },
  {
   "cell_type": "code",
   "execution_count": 2,
   "metadata": {},
   "outputs": [
    {
     "data": {
      "text/html": [
       "<div>\n",
       "<style scoped>\n",
       "    .dataframe tbody tr th:only-of-type {\n",
       "        vertical-align: middle;\n",
       "    }\n",
       "\n",
       "    .dataframe tbody tr th {\n",
       "        vertical-align: top;\n",
       "    }\n",
       "\n",
       "    .dataframe thead th {\n",
       "        text-align: right;\n",
       "    }\n",
       "</style>\n",
       "<table border=\"1\" class=\"dataframe\">\n",
       "  <thead>\n",
       "    <tr style=\"text-align: right;\">\n",
       "      <th></th>\n",
       "      <th>sex</th>\n",
       "      <th>length</th>\n",
       "      <th>diameter</th>\n",
       "      <th>height</th>\n",
       "      <th>whole weight</th>\n",
       "      <th>shucked weight</th>\n",
       "      <th>viscera weight</th>\n",
       "      <th>shell weight</th>\n",
       "      <th>rings</th>\n",
       "    </tr>\n",
       "  </thead>\n",
       "  <tbody>\n",
       "    <tr>\n",
       "      <th>0</th>\n",
       "      <td>M</td>\n",
       "      <td>0.455</td>\n",
       "      <td>0.365</td>\n",
       "      <td>0.095</td>\n",
       "      <td>0.5140</td>\n",
       "      <td>0.2245</td>\n",
       "      <td>0.1010</td>\n",
       "      <td>0.150</td>\n",
       "      <td>15</td>\n",
       "    </tr>\n",
       "    <tr>\n",
       "      <th>1</th>\n",
       "      <td>M</td>\n",
       "      <td>0.350</td>\n",
       "      <td>0.265</td>\n",
       "      <td>0.090</td>\n",
       "      <td>0.2255</td>\n",
       "      <td>0.0995</td>\n",
       "      <td>0.0485</td>\n",
       "      <td>0.070</td>\n",
       "      <td>7</td>\n",
       "    </tr>\n",
       "    <tr>\n",
       "      <th>2</th>\n",
       "      <td>F</td>\n",
       "      <td>0.530</td>\n",
       "      <td>0.420</td>\n",
       "      <td>0.135</td>\n",
       "      <td>0.6770</td>\n",
       "      <td>0.2565</td>\n",
       "      <td>0.1415</td>\n",
       "      <td>0.210</td>\n",
       "      <td>9</td>\n",
       "    </tr>\n",
       "    <tr>\n",
       "      <th>3</th>\n",
       "      <td>M</td>\n",
       "      <td>0.440</td>\n",
       "      <td>0.365</td>\n",
       "      <td>0.125</td>\n",
       "      <td>0.5160</td>\n",
       "      <td>0.2155</td>\n",
       "      <td>0.1140</td>\n",
       "      <td>0.155</td>\n",
       "      <td>10</td>\n",
       "    </tr>\n",
       "    <tr>\n",
       "      <th>4</th>\n",
       "      <td>I</td>\n",
       "      <td>0.330</td>\n",
       "      <td>0.255</td>\n",
       "      <td>0.080</td>\n",
       "      <td>0.2050</td>\n",
       "      <td>0.0895</td>\n",
       "      <td>0.0395</td>\n",
       "      <td>0.055</td>\n",
       "      <td>7</td>\n",
       "    </tr>\n",
       "  </tbody>\n",
       "</table>\n",
       "</div>"
      ],
      "text/plain": [
       "  sex  length  diameter  height  whole weight  shucked weight  viscera weight  \\\n",
       "0   M   0.455     0.365   0.095        0.5140          0.2245          0.1010   \n",
       "1   M   0.350     0.265   0.090        0.2255          0.0995          0.0485   \n",
       "2   F   0.530     0.420   0.135        0.6770          0.2565          0.1415   \n",
       "3   M   0.440     0.365   0.125        0.5160          0.2155          0.1140   \n",
       "4   I   0.330     0.255   0.080        0.2050          0.0895          0.0395   \n",
       "\n",
       "   shell weight  rings  \n",
       "0         0.150     15  \n",
       "1         0.070      7  \n",
       "2         0.210      9  \n",
       "3         0.155     10  \n",
       "4         0.055      7  "
      ]
     },
     "execution_count": 2,
     "metadata": {},
     "output_type": "execute_result"
    }
   ],
   "source": [
    "df = pd.read_csv(\"abalone.data\", names=[\"sex\", \"length\", \"diameter\", \"height\", \"whole weight\", \"shucked weight\",\n",
    "                                       \"viscera weight\", \"shell weight\", \"rings\"])\n",
    "\n",
    "df.head()"
   ]
  },
  {
   "cell_type": "markdown",
   "metadata": {},
   "source": [
    "Since our target is age, we must convert the rings column to age by adding 1.5 to every entry, since abalone show age similarly to trees."
   ]
  },
  {
   "cell_type": "code",
   "execution_count": 3,
   "metadata": {},
   "outputs": [
    {
     "data": {
      "text/html": [
       "<div>\n",
       "<style scoped>\n",
       "    .dataframe tbody tr th:only-of-type {\n",
       "        vertical-align: middle;\n",
       "    }\n",
       "\n",
       "    .dataframe tbody tr th {\n",
       "        vertical-align: top;\n",
       "    }\n",
       "\n",
       "    .dataframe thead th {\n",
       "        text-align: right;\n",
       "    }\n",
       "</style>\n",
       "<table border=\"1\" class=\"dataframe\">\n",
       "  <thead>\n",
       "    <tr style=\"text-align: right;\">\n",
       "      <th></th>\n",
       "      <th>sex</th>\n",
       "      <th>length</th>\n",
       "      <th>diameter</th>\n",
       "      <th>height</th>\n",
       "      <th>whole weight</th>\n",
       "      <th>shucked weight</th>\n",
       "      <th>viscera weight</th>\n",
       "      <th>shell weight</th>\n",
       "      <th>age</th>\n",
       "    </tr>\n",
       "  </thead>\n",
       "  <tbody>\n",
       "    <tr>\n",
       "      <th>0</th>\n",
       "      <td>M</td>\n",
       "      <td>0.455</td>\n",
       "      <td>0.365</td>\n",
       "      <td>0.095</td>\n",
       "      <td>0.5140</td>\n",
       "      <td>0.2245</td>\n",
       "      <td>0.1010</td>\n",
       "      <td>0.150</td>\n",
       "      <td>16.5</td>\n",
       "    </tr>\n",
       "    <tr>\n",
       "      <th>1</th>\n",
       "      <td>M</td>\n",
       "      <td>0.350</td>\n",
       "      <td>0.265</td>\n",
       "      <td>0.090</td>\n",
       "      <td>0.2255</td>\n",
       "      <td>0.0995</td>\n",
       "      <td>0.0485</td>\n",
       "      <td>0.070</td>\n",
       "      <td>8.5</td>\n",
       "    </tr>\n",
       "    <tr>\n",
       "      <th>2</th>\n",
       "      <td>F</td>\n",
       "      <td>0.530</td>\n",
       "      <td>0.420</td>\n",
       "      <td>0.135</td>\n",
       "      <td>0.6770</td>\n",
       "      <td>0.2565</td>\n",
       "      <td>0.1415</td>\n",
       "      <td>0.210</td>\n",
       "      <td>10.5</td>\n",
       "    </tr>\n",
       "    <tr>\n",
       "      <th>3</th>\n",
       "      <td>M</td>\n",
       "      <td>0.440</td>\n",
       "      <td>0.365</td>\n",
       "      <td>0.125</td>\n",
       "      <td>0.5160</td>\n",
       "      <td>0.2155</td>\n",
       "      <td>0.1140</td>\n",
       "      <td>0.155</td>\n",
       "      <td>11.5</td>\n",
       "    </tr>\n",
       "    <tr>\n",
       "      <th>4</th>\n",
       "      <td>I</td>\n",
       "      <td>0.330</td>\n",
       "      <td>0.255</td>\n",
       "      <td>0.080</td>\n",
       "      <td>0.2050</td>\n",
       "      <td>0.0895</td>\n",
       "      <td>0.0395</td>\n",
       "      <td>0.055</td>\n",
       "      <td>8.5</td>\n",
       "    </tr>\n",
       "  </tbody>\n",
       "</table>\n",
       "</div>"
      ],
      "text/plain": [
       "  sex  length  diameter  height  whole weight  shucked weight  viscera weight  \\\n",
       "0   M   0.455     0.365   0.095        0.5140          0.2245          0.1010   \n",
       "1   M   0.350     0.265   0.090        0.2255          0.0995          0.0485   \n",
       "2   F   0.530     0.420   0.135        0.6770          0.2565          0.1415   \n",
       "3   M   0.440     0.365   0.125        0.5160          0.2155          0.1140   \n",
       "4   I   0.330     0.255   0.080        0.2050          0.0895          0.0395   \n",
       "\n",
       "   shell weight   age  \n",
       "0         0.150  16.5  \n",
       "1         0.070   8.5  \n",
       "2         0.210  10.5  \n",
       "3         0.155  11.5  \n",
       "4         0.055   8.5  "
      ]
     },
     "execution_count": 3,
     "metadata": {},
     "output_type": "execute_result"
    }
   ],
   "source": [
    "df[\"age\"] = df[\"rings\"] + 1.5\n",
    "df = df.drop(columns = \"rings\")\n",
    "\n",
    "df.head()"
   ]
  },
  {
   "cell_type": "code",
   "execution_count": 4,
   "metadata": {},
   "outputs": [
    {
     "data": {
      "text/html": [
       "<div>\n",
       "<style scoped>\n",
       "    .dataframe tbody tr th:only-of-type {\n",
       "        vertical-align: middle;\n",
       "    }\n",
       "\n",
       "    .dataframe tbody tr th {\n",
       "        vertical-align: top;\n",
       "    }\n",
       "\n",
       "    .dataframe thead th {\n",
       "        text-align: right;\n",
       "    }\n",
       "</style>\n",
       "<table border=\"1\" class=\"dataframe\">\n",
       "  <thead>\n",
       "    <tr style=\"text-align: right;\">\n",
       "      <th></th>\n",
       "      <th>M</th>\n",
       "      <th>F</th>\n",
       "      <th>I</th>\n",
       "      <th>length</th>\n",
       "      <th>diameter</th>\n",
       "      <th>height</th>\n",
       "      <th>whole weight</th>\n",
       "      <th>shucked weight</th>\n",
       "      <th>viscera weight</th>\n",
       "      <th>shell weight</th>\n",
       "      <th>age</th>\n",
       "    </tr>\n",
       "  </thead>\n",
       "  <tbody>\n",
       "    <tr>\n",
       "      <th>0</th>\n",
       "      <td>1</td>\n",
       "      <td>0</td>\n",
       "      <td>0</td>\n",
       "      <td>0.455</td>\n",
       "      <td>0.365</td>\n",
       "      <td>0.095</td>\n",
       "      <td>0.5140</td>\n",
       "      <td>0.2245</td>\n",
       "      <td>0.1010</td>\n",
       "      <td>0.150</td>\n",
       "      <td>16.5</td>\n",
       "    </tr>\n",
       "    <tr>\n",
       "      <th>1</th>\n",
       "      <td>1</td>\n",
       "      <td>0</td>\n",
       "      <td>0</td>\n",
       "      <td>0.350</td>\n",
       "      <td>0.265</td>\n",
       "      <td>0.090</td>\n",
       "      <td>0.2255</td>\n",
       "      <td>0.0995</td>\n",
       "      <td>0.0485</td>\n",
       "      <td>0.070</td>\n",
       "      <td>8.5</td>\n",
       "    </tr>\n",
       "    <tr>\n",
       "      <th>2</th>\n",
       "      <td>0</td>\n",
       "      <td>1</td>\n",
       "      <td>0</td>\n",
       "      <td>0.530</td>\n",
       "      <td>0.420</td>\n",
       "      <td>0.135</td>\n",
       "      <td>0.6770</td>\n",
       "      <td>0.2565</td>\n",
       "      <td>0.1415</td>\n",
       "      <td>0.210</td>\n",
       "      <td>10.5</td>\n",
       "    </tr>\n",
       "    <tr>\n",
       "      <th>3</th>\n",
       "      <td>1</td>\n",
       "      <td>0</td>\n",
       "      <td>0</td>\n",
       "      <td>0.440</td>\n",
       "      <td>0.365</td>\n",
       "      <td>0.125</td>\n",
       "      <td>0.5160</td>\n",
       "      <td>0.2155</td>\n",
       "      <td>0.1140</td>\n",
       "      <td>0.155</td>\n",
       "      <td>11.5</td>\n",
       "    </tr>\n",
       "    <tr>\n",
       "      <th>4</th>\n",
       "      <td>0</td>\n",
       "      <td>0</td>\n",
       "      <td>1</td>\n",
       "      <td>0.330</td>\n",
       "      <td>0.255</td>\n",
       "      <td>0.080</td>\n",
       "      <td>0.2050</td>\n",
       "      <td>0.0895</td>\n",
       "      <td>0.0395</td>\n",
       "      <td>0.055</td>\n",
       "      <td>8.5</td>\n",
       "    </tr>\n",
       "  </tbody>\n",
       "</table>\n",
       "</div>"
      ],
      "text/plain": [
       "   M  F  I  length  diameter  height  whole weight  shucked weight  \\\n",
       "0  1  0  0   0.455     0.365   0.095        0.5140          0.2245   \n",
       "1  1  0  0   0.350     0.265   0.090        0.2255          0.0995   \n",
       "2  0  1  0   0.530     0.420   0.135        0.6770          0.2565   \n",
       "3  1  0  0   0.440     0.365   0.125        0.5160          0.2155   \n",
       "4  0  0  1   0.330     0.255   0.080        0.2050          0.0895   \n",
       "\n",
       "   viscera weight  shell weight   age  \n",
       "0          0.1010         0.150  16.5  \n",
       "1          0.0485         0.070   8.5  \n",
       "2          0.1415         0.210  10.5  \n",
       "3          0.1140         0.155  11.5  \n",
       "4          0.0395         0.055   8.5  "
      ]
     },
     "execution_count": 4,
     "metadata": {},
     "output_type": "execute_result"
    }
   ],
   "source": [
    "sexArr = df[\"sex\"].to_numpy()\n",
    "numRows = len(sexArr)\n",
    "\n",
    "sexMat = np.zeros((numRows, 3), dtype=int)\n",
    "for i in range(numRows):\n",
    "    char = sexArr[i]\n",
    "    if char == 'M':\n",
    "        sexMat[i][0] = 1\n",
    "    elif char == 'F':\n",
    "        sexMat[i][1] = 1\n",
    "    else:\n",
    "        sexMat[i][2] = 1\n",
    "\n",
    "sexdf = pd.DataFrame(data = sexMat, columns = [\"M\", \"F\", \"I\"])\n",
    "\n",
    "df = pd.concat([sexdf, df], axis = 1, sort = False)\n",
    "df = df.drop(columns = \"sex\")\n",
    "\n",
    "df.head()"
   ]
  },
  {
   "cell_type": "markdown",
   "metadata": {},
   "source": [
    "# Exploratory Data Analysis"
   ]
  },
  {
   "cell_type": "markdown",
   "metadata": {},
   "source": [
    "Quick Info"
   ]
  },
  {
   "cell_type": "code",
   "execution_count": 5,
   "metadata": {},
   "outputs": [
    {
     "name": "stdout",
     "output_type": "stream",
     "text": [
      "<class 'pandas.core.frame.DataFrame'>\n",
      "RangeIndex: 4177 entries, 0 to 4176\n",
      "Data columns (total 11 columns):\n",
      " #   Column          Non-Null Count  Dtype  \n",
      "---  ------          --------------  -----  \n",
      " 0   M               4177 non-null   int32  \n",
      " 1   F               4177 non-null   int32  \n",
      " 2   I               4177 non-null   int32  \n",
      " 3   length          4177 non-null   float64\n",
      " 4   diameter        4177 non-null   float64\n",
      " 5   height          4177 non-null   float64\n",
      " 6   whole weight    4177 non-null   float64\n",
      " 7   shucked weight  4177 non-null   float64\n",
      " 8   viscera weight  4177 non-null   float64\n",
      " 9   shell weight    4177 non-null   float64\n",
      " 10  age             4177 non-null   float64\n",
      "dtypes: float64(8), int32(3)\n",
      "memory usage: 310.1 KB\n"
     ]
    }
   ],
   "source": [
    "df.info()"
   ]
  },
  {
   "cell_type": "markdown",
   "metadata": {},
   "source": [
    "Dataset Size"
   ]
  },
  {
   "cell_type": "code",
   "execution_count": 6,
   "metadata": {},
   "outputs": [
    {
     "name": "stdout",
     "output_type": "stream",
     "text": [
      "No. of Rows: 4177\n",
      "No. of Columns: 11\n"
     ]
    }
   ],
   "source": [
    "no_of_rows = df.shape[0]\n",
    "no_of_columns = df.shape[1]\n",
    "\n",
    "print(\"No. of Rows: %d\" % no_of_rows)\n",
    "print(\"No. of Columns: %d\" % no_of_columns)"
   ]
  },
  {
   "cell_type": "markdown",
   "metadata": {},
   "source": [
    "Visualizing Data Using Histograms"
   ]
  },
  {
   "cell_type": "code",
   "execution_count": 7,
   "metadata": {},
   "outputs": [
    {
     "data": {
      "text/plain": [
       "array([[<AxesSubplot:title={'center':'M'}>,\n",
       "        <AxesSubplot:title={'center':'F'}>,\n",
       "        <AxesSubplot:title={'center':'I'}>],\n",
       "       [<AxesSubplot:title={'center':'length'}>,\n",
       "        <AxesSubplot:title={'center':'diameter'}>,\n",
       "        <AxesSubplot:title={'center':'height'}>],\n",
       "       [<AxesSubplot:title={'center':'whole weight'}>,\n",
       "        <AxesSubplot:title={'center':'shucked weight'}>,\n",
       "        <AxesSubplot:title={'center':'viscera weight'}>],\n",
       "       [<AxesSubplot:title={'center':'shell weight'}>,\n",
       "        <AxesSubplot:title={'center':'age'}>, <AxesSubplot:>]],\n",
       "      dtype=object)"
      ]
     },
     "execution_count": 7,
     "metadata": {},
     "output_type": "execute_result"
    },
    {
     "data": {
      "image/png": "[encoded data removed]",
      "text/plain": [
       "<Figure size 1440x1080 with 12 Axes>"
      ]
     },
     "metadata": {
      "needs_background": "light"
     },
     "output_type": "display_data"
    }
   ],
   "source": [
    "df.hist(bins=50, figsize=(20,15))"
   ]
  },
  {
   "cell_type": "code",
   "execution_count": 8,
   "metadata": {},
   "outputs": [
    {
     "data": {
      "text/html": [
       "<div>\n",
       "<style scoped>\n",
       "    .dataframe tbody tr th:only-of-type {\n",
       "        vertical-align: middle;\n",
       "    }\n",
       "\n",
       "    .dataframe tbody tr th {\n",
       "        vertical-align: top;\n",
       "    }\n",
       "\n",
       "    .dataframe thead th {\n",
       "        text-align: right;\n",
       "    }\n",
       "</style>\n",
       "<table border=\"1\" class=\"dataframe\">\n",
       "  <thead>\n",
       "    <tr style=\"text-align: right;\">\n",
       "      <th></th>\n",
       "      <th>M</th>\n",
       "      <th>F</th>\n",
       "      <th>I</th>\n",
       "      <th>length</th>\n",
       "      <th>diameter</th>\n",
       "      <th>height</th>\n",
       "      <th>whole weight</th>\n",
       "      <th>shucked weight</th>\n",
       "      <th>viscera weight</th>\n",
       "      <th>shell weight</th>\n",
       "      <th>age</th>\n",
       "    </tr>\n",
       "  </thead>\n",
       "  <tbody>\n",
       "    <tr>\n",
       "      <th>count</th>\n",
       "      <td>4177.000000</td>\n",
       "      <td>4177.000000</td>\n",
       "      <td>4177.000000</td>\n",
       "      <td>4177.000000</td>\n",
       "      <td>4177.000000</td>\n",
       "      <td>4177.000000</td>\n",
       "      <td>4177.000000</td>\n",
       "      <td>4177.000000</td>\n",
       "      <td>4177.000000</td>\n",
       "      <td>4177.000000</td>\n",
       "      <td>4177.000000</td>\n",
       "    </tr>\n",
       "    <tr>\n",
       "      <th>mean</th>\n",
       "      <td>0.365813</td>\n",
       "      <td>0.312904</td>\n",
       "      <td>0.321283</td>\n",
       "      <td>0.523992</td>\n",
       "      <td>0.407881</td>\n",
       "      <td>0.139516</td>\n",
       "      <td>0.828742</td>\n",
       "      <td>0.359367</td>\n",
       "      <td>0.180594</td>\n",
       "      <td>0.238831</td>\n",
       "      <td>11.433684</td>\n",
       "    </tr>\n",
       "    <tr>\n",
       "      <th>std</th>\n",
       "      <td>0.481715</td>\n",
       "      <td>0.463731</td>\n",
       "      <td>0.467025</td>\n",
       "      <td>0.120093</td>\n",
       "      <td>0.099240</td>\n",
       "      <td>0.041827</td>\n",
       "      <td>0.490389</td>\n",
       "      <td>0.221963</td>\n",
       "      <td>0.109614</td>\n",
       "      <td>0.139203</td>\n",
       "      <td>3.224169</td>\n",
       "    </tr>\n",
       "    <tr>\n",
       "      <th>min</th>\n",
       "      <td>0.000000</td>\n",
       "      <td>0.000000</td>\n",
       "      <td>0.000000</td>\n",
       "      <td>0.075000</td>\n",
       "      <td>0.055000</td>\n",
       "      <td>0.000000</td>\n",
       "      <td>0.002000</td>\n",
       "      <td>0.001000</td>\n",
       "      <td>0.000500</td>\n",
       "      <td>0.001500</td>\n",
       "      <td>2.500000</td>\n",
       "    </tr>\n",
       "    <tr>\n",
       "      <th>25%</th>\n",
       "      <td>0.000000</td>\n",
       "      <td>0.000000</td>\n",
       "      <td>0.000000</td>\n",
       "      <td>0.450000</td>\n",
       "      <td>0.350000</td>\n",
       "      <td>0.115000</td>\n",
       "      <td>0.441500</td>\n",
       "      <td>0.186000</td>\n",
       "      <td>0.093500</td>\n",
       "      <td>0.130000</td>\n",
       "      <td>9.500000</td>\n",
       "    </tr>\n",
       "    <tr>\n",
       "      <th>50%</th>\n",
       "      <td>0.000000</td>\n",
       "      <td>0.000000</td>\n",
       "      <td>0.000000</td>\n",
       "      <td>0.545000</td>\n",
       "      <td>0.425000</td>\n",
       "      <td>0.140000</td>\n",
       "      <td>0.799500</td>\n",
       "      <td>0.336000</td>\n",
       "      <td>0.171000</td>\n",
       "      <td>0.234000</td>\n",
       "      <td>10.500000</td>\n",
       "    </tr>\n",
       "    <tr>\n",
       "      <th>75%</th>\n",
       "      <td>1.000000</td>\n",
       "      <td>1.000000</td>\n",
       "      <td>1.000000</td>\n",
       "      <td>0.615000</td>\n",
       "      <td>0.480000</td>\n",
       "      <td>0.165000</td>\n",
       "      <td>1.153000</td>\n",
       "      <td>0.502000</td>\n",
       "      <td>0.253000</td>\n",
       "      <td>0.329000</td>\n",
       "      <td>12.500000</td>\n",
       "    </tr>\n",
       "    <tr>\n",
       "      <th>max</th>\n",
       "      <td>1.000000</td>\n",
       "      <td>1.000000</td>\n",
       "      <td>1.000000</td>\n",
       "      <td>0.815000</td>\n",
       "      <td>0.650000</td>\n",
       "      <td>1.130000</td>\n",
       "      <td>2.825500</td>\n",
       "      <td>1.488000</td>\n",
       "      <td>0.760000</td>\n",
       "      <td>1.005000</td>\n",
       "      <td>30.500000</td>\n",
       "    </tr>\n",
       "  </tbody>\n",
       "</table>\n",
       "</div>"
      ],
      "text/plain": [
       "                 M            F            I       length     diameter  \\\n",
       "count  4177.000000  4177.000000  4177.000000  4177.000000  4177.000000   \n",
       "mean      0.365813     0.312904     0.321283     0.523992     0.407881   \n",
       "std       0.481715     0.463731     0.467025     0.120093     0.099240   \n",
       "min       0.000000     0.000000     0.000000     0.075000     0.055000   \n",
       "25%       0.000000     0.000000     0.000000     0.450000     0.350000   \n",
       "50%       0.000000     0.000000     0.000000     0.545000     0.425000   \n",
       "75%       1.000000     1.000000     1.000000     0.615000     0.480000   \n",
       "max       1.000000     1.000000     1.000000     0.815000     0.650000   \n",
       "\n",
       "            height  whole weight  shucked weight  viscera weight  \\\n",
       "count  4177.000000   4177.000000     4177.000000     4177.000000   \n",
       "mean      0.139516      0.828742        0.359367        0.180594   \n",
       "std       0.041827      0.490389        0.221963        0.109614   \n",
       "min       0.000000      0.002000        0.001000        0.000500   \n",
       "25%       0.115000      0.441500        0.186000        0.093500   \n",
       "50%       0.140000      0.799500        0.336000        0.171000   \n",
       "75%       0.165000      1.153000        0.502000        0.253000   \n",
       "max       1.130000      2.825500        1.488000        0.760000   \n",
       "\n",
       "       shell weight          age  \n",
       "count   4177.000000  4177.000000  \n",
       "mean       0.238831    11.433684  \n",
       "std        0.139203     3.224169  \n",
       "min        0.001500     2.500000  \n",
       "25%        0.130000     9.500000  \n",
       "50%        0.234000    10.500000  \n",
       "75%        0.329000    12.500000  \n",
       "max        1.005000    30.500000  "
      ]
     },
     "execution_count": 8,
     "metadata": {},
     "output_type": "execute_result"
    }
   ],
   "source": [
    "df.describe()"
   ]
  },
  {
   "cell_type": "markdown",
   "metadata": {},
   "source": [
    "Checking Correlation with Target Feature"
   ]
  },
  {
   "cell_type": "code",
   "execution_count": 9,
   "metadata": {},
   "outputs": [
    {
     "data": {
      "text/plain": [
       "age               1.000000\n",
       "shell weight      0.627574\n",
       "diameter          0.574660\n",
       "height            0.557467\n",
       "length            0.556720\n",
       "whole weight      0.540390\n",
       "viscera weight    0.503819\n",
       "shucked weight    0.420884\n",
       "F                 0.250279\n",
       "M                 0.181831\n",
       "I                -0.436063\n",
       "Name: age, dtype: float64"
      ]
     },
     "execution_count": 9,
     "metadata": {},
     "output_type": "execute_result"
    }
   ],
   "source": [
    "df.corr()['age'].sort_values(ascending=False)"
   ]
  },
  {
   "cell_type": "markdown",
   "metadata": {},
   "source": [
    "Seaborn Pair Plot"
   ]
  },
  {
   "cell_type": "code",
   "execution_count": 10,
   "metadata": {},
   "outputs": [
    {
     "data": {
      "text/plain": [
       "'\\ndef corrfunc(x, y, **kws):\\n    r, _ = stats.pearsonr(x, y)\\n    ax = plt.gca()\\n    ax.annotate(\"r = {:.2f}\".format(r),\\n                xy=(.1, .6), xycoords=ax.transAxes,\\n               size = 24)\\n    \\ncmap = sns.cubehelix_palette(light=1, dark = 0.1,\\n                             hue = 0.5, as_cmap=True)\\n\\nsns.set_context(font_scale=2)\\n\\ng = sns.PairGrid(df)\\n\\ng.map_upper(plt.scatter, s=10, color = \\'red\\')\\n\\ng.map_diag(sns.distplot, kde=False, color = \\'red\\')\\n\\ng.map_lower(sns.kdeplot, cmap = cmap)\\ng.map_lower(corrfunc);\\n'"
      ]
     },
     "execution_count": 10,
     "metadata": {},
     "output_type": "execute_result"
    }
   ],
   "source": [
    "# Comment out to save time\n",
    "\n",
    "\"\"\"\n",
    "def corrfunc(x, y, **kws):\n",
    "    r, _ = stats.pearsonr(x, y)\n",
    "    ax = plt.gca()\n",
    "    ax.annotate(\"r = {:.2f}\".format(r),\n",
    "                xy=(.1, .6), xycoords=ax.transAxes,\n",
    "               size = 24)\n",
    "    \n",
    "cmap = sns.cubehelix_palette(light=1, dark = 0.1,\n",
    "                             hue = 0.5, as_cmap=True)\n",
    "\n",
    "sns.set_context(font_scale=2)\n",
    "\n",
    "g = sns.PairGrid(df)\n",
    "\n",
    "g.map_upper(plt.scatter, s=10, color = 'red')\n",
    "\n",
    "g.map_diag(sns.distplot, kde=False, color = 'red')\n",
    "\n",
    "g.map_lower(sns.kdeplot, cmap = cmap)\n",
    "g.map_lower(corrfunc);\n",
    "\"\"\""
   ]
  },
  {
   "cell_type": "markdown",
   "metadata": {},
   "source": [
    "# Data Preprocessing"
   ]
  },
  {
   "cell_type": "markdown",
   "metadata": {},
   "source": [
    "Create new columns for the ratios and error."
   ]
  },
  {
   "cell_type": "code",
   "execution_count": 11,
   "metadata": {},
   "outputs": [],
   "source": [
    "df['viscera/w'] = df['viscera weight']/df['whole weight']\n",
    "df['shucked/w'] = df['shucked weight']/df['whole weight']\n",
    "df['shell/w']   = df['shucked weight']/df['whole weight']\n",
    "df['err']       = abs(df['shucked weight']+df['shell weight']+df['viscera weight']-df['whole weight'])"
   ]
  },
  {
   "cell_type": "markdown",
   "metadata": {},
   "source": [
    "then we graph the distribution of the data using the new columns we got."
   ]
  },
  {
   "cell_type": "code",
   "execution_count": 12,
   "metadata": {},
   "outputs": [
    {
     "data": {
      "image/png": "[encoded data removed]",
      "text/plain": [
       "<Figure size 432x288 with 1 Axes>"
      ]
     },
     "metadata": {
      "needs_background": "light"
     },
     "output_type": "display_data"
    },
    {
     "data": {
      "image/png": "[encoded data removed]",
      "text/plain": [
       "<Figure size 432x288 with 1 Axes>"
      ]
     },
     "metadata": {
      "needs_background": "light"
     },
     "output_type": "display_data"
    },
    {
     "data": {
      "image/png": "[encoded data removed]",
      "text/plain": [
       "<Figure size 432x288 with 1 Axes>"
      ]
     },
     "metadata": {
      "needs_background": "light"
     },
     "output_type": "display_data"
    },
    {
     "data": {
      "image/png": "[encoded data removed]",
      "text/plain": [
       "<Figure size 432x288 with 1 Axes>"
      ]
     },
     "metadata": {
      "needs_background": "light"
     },
     "output_type": "display_data"
    }
   ],
   "source": [
    "def graph_lable(lable):\n",
    "    a = plt.gca()\n",
    "    df.loc[df['M']==1].plot(kind='scatter',x = 'age',y = lable,color='red',ax=a)\n",
    "    df.loc[df['F']==1].plot(kind='scatter',x = 'age',y = lable,color='blue',ax=a)\n",
    "    df.loc[df['I']==1].plot(kind='scatter',x = 'age',y = lable,color='green',ax=a)\n",
    "    plt.show()\n",
    "graph_lable('err')\n",
    "graph_lable('viscera/w')\n",
    "graph_lable('shucked/w')\n",
    "graph_lable('shell/w')"
   ]
  },
  {
   "cell_type": "code",
   "execution_count": 13,
   "metadata": {},
   "outputs": [],
   "source": [
    "bad_data    =  [set(df[df['err']>0.1].index),\n",
    "                set(df[df['shucked/w']>0.6].index),\n",
    "                set(df[df['shell/w']>0.56].index),\n",
    "                set(df[df['viscera/w']>0.4].index)]\n",
    "union       = set().union(*bad_data)\n",
    "df = df.drop(union)"
   ]
  },
  {
   "cell_type": "code",
   "execution_count": 14,
   "metadata": {},
   "outputs": [
    {
     "name": "stdout",
     "output_type": "stream",
     "text": [
      "age               1.000000\n",
      "shell weight      0.615389\n",
      "diameter          0.579821\n",
      "length            0.563341\n",
      "height            0.548349\n",
      "err               0.530251\n",
      "whole weight      0.523393\n",
      "viscera weight    0.502288\n",
      "I                 0.435073\n",
      "shucked weight    0.431871\n",
      "F                 0.259732\n",
      "shell/w           0.228436\n",
      "shucked/w         0.228436\n",
      "M                 0.190985\n",
      "viscera/w         0.015461\n",
      "Name: age, dtype: float64\n"
     ]
    }
   ],
   "source": [
    "print(df.corr().abs()['age'].sort_values(ascending=False))\n",
    "df = df.drop(columns=['F','M','I','viscera/w','shucked/w','shell/w','err'])"
   ]
  },
  {
   "cell_type": "code",
   "execution_count": 15,
   "metadata": {},
   "outputs": [
    {
     "name": "stdout",
     "output_type": "stream",
     "text": [
      "<class 'pandas.core.frame.DataFrame'>\n",
      "Int64Index: 3599 entries, 2438 to 2868\n",
      "Data columns (total 8 columns):\n",
      " #   Column          Non-Null Count  Dtype  \n",
      "---  ------          --------------  -----  \n",
      " 0   length          3599 non-null   float64\n",
      " 1   diameter        3599 non-null   float64\n",
      " 2   height          3599 non-null   float64\n",
      " 3   whole weight    3599 non-null   float64\n",
      " 4   shucked weight  3599 non-null   float64\n",
      " 5   viscera weight  3599 non-null   float64\n",
      " 6   shell weight    3599 non-null   float64\n",
      " 7   age             3599 non-null   float64\n",
      "dtypes: float64(8)\n",
      "memory usage: 253.1 KB\n"
     ]
    }
   ],
   "source": [
    "df = df.sample(frac=1)\n",
    "\n",
    "df.info()\n",
    "y = df['age'].to_numpy()\n",
    "X = df.drop(columns='age').to_numpy()\n",
    "\n",
    "pca = PCA(n_components=3)\n",
    "X_pca = pca.fit_transform(X)\n",
    "\n",
    "\n",
    "X_train, X_test, y_train, y_test = train_test_split(X, y, test_size=0.2)\n",
    "\n",
    "X_train_pca, X_test_pca, y_train_pca, y_test_pca = train_test_split(X_pca, y, test_size=0.2)"
   ]
  },
  {
   "cell_type": "markdown",
   "metadata": {},
   "source": [
    "# Models"
   ]
  },
  {
   "cell_type": "markdown",
   "metadata": {},
   "source": [
    "## Bayesian Ridge Regression"
   ]
  },
  {
   "cell_type": "code",
   "execution_count": 16,
   "metadata": {},
   "outputs": [
    {
     "name": "stdout",
     "output_type": "stream",
     "text": [
      "Fitting 10 folds for each of 162 candidates, totalling 1620 fits\n"
     ]
    },
    {
     "name": "stderr",
     "output_type": "stream",
     "text": [
      "[Parallel(n_jobs=-1)]: Using backend LokyBackend with 8 concurrent workers.\n",
      "[Parallel(n_jobs=-1)]: Done  25 tasks      | elapsed:    1.8s\n",
      "[Parallel(n_jobs=-1)]: Done 1310 tasks      | elapsed:    2.9s\n",
      "[Parallel(n_jobs=-1)]: Done 1620 out of 1620 | elapsed:    3.0s finished\n"
     ]
    }
   ],
   "source": [
    "param_grid = {'n_iter': [1, 5, 100], \n",
    "              'alpha_1': [.000001, .0001], 'alpha_2': [1, 5, 500],\n",
    "              'lambda_1': [.1, .5, 100], 'lambda_2': [.00000001, .000001, .0001]}\n",
    "\n",
    "br  = BayesianRidge()\n",
    "br_cv = GridSearchCV(br, param_grid, scoring='neg_mean_absolute_error', cv=10, verbose=2, n_jobs=-1)\n",
    "\n",
    "br_cv.fit(X_train, y_train)\n",
    "\n",
    "params_optimal_br = br_cv.best_params_\n",
    "\n",
    "optimal_br = BayesianRidge(**params_optimal_br)\n",
    "\n",
    "optimal_br.fit(X_train, y_train)\n",
    "\n",
    "y_predict = optimal_br.predict(X_test)"
   ]
  },
  {
   "cell_type": "code",
   "execution_count": 17,
   "metadata": {},
   "outputs": [
    {
     "name": "stderr",
     "output_type": "stream",
     "text": [
      "[Parallel(n_jobs=-1)]: Using backend LokyBackend with 8 concurrent workers.\n",
      "[Parallel(n_jobs=-1)]: Done  34 tasks      | elapsed:    0.0s\n"
     ]
    },
    {
     "name": "stdout",
     "output_type": "stream",
     "text": [
      "Fitting 10 folds for each of 162 candidates, totalling 1620 fits\n"
     ]
    },
    {
     "name": "stderr",
     "output_type": "stream",
     "text": [
      "[Parallel(n_jobs=-1)]: Done 1373 tasks      | elapsed:    0.7s\n",
      "[Parallel(n_jobs=-1)]: Done 1620 out of 1620 | elapsed:    0.8s finished\n"
     ]
    }
   ],
   "source": [
    "br_pca  = BayesianRidge()\n",
    "\n",
    "br_pca_cv = GridSearchCV(br, param_grid, scoring='neg_mean_absolute_error', cv=10, verbose=2, n_jobs=-1)\n",
    "\n",
    "br_pca_cv.fit(X_train_pca, y_train_pca)\n",
    "\n",
    "params_optimal_br_pca = br_pca_cv.best_params_\n",
    "\n",
    "optimal_br_pca = BayesianRidge(**params_optimal_br_pca)\n",
    "\n",
    "optimal_br_pca.fit(X_train_pca, y_train_pca)\n",
    "\n",
    "y_predict_pca = optimal_br_pca.predict(X_test_pca)"
   ]
  },
  {
   "cell_type": "code",
   "execution_count": 18,
   "metadata": {},
   "outputs": [
    {
     "name": "stdout",
     "output_type": "stream",
     "text": [
      "Bayesian Ridge Regression\n",
      "Optimal Parameters\n",
      "{'alpha_1': 1e-06, 'alpha_2': 500, 'lambda_1': 0.5, 'lambda_2': 1e-08, 'n_iter': 1}\n",
      "Mean Absolute Error\n",
      "1.46595823668488\n",
      "R2 Score\n",
      "0.5228787186916481\n",
      "\n",
      "\n",
      "Bayesian Ridge Regression w/ PCA\n",
      "Optimal Parameters\n",
      "{'alpha_1': 1e-06, 'alpha_2': 500, 'lambda_1': 0.5, 'lambda_2': 1e-08, 'n_iter': 1}\n",
      "Mean Absolute Error\n",
      "1.444541262061212\n",
      "R2 Score\n",
      "0.5058531578185333\n"
     ]
    }
   ],
   "source": [
    "print('Bayesian Ridge Regression')\n",
    "print('Optimal Parameters')\n",
    "print(params_optimal_br)\n",
    "print('Mean Absolute Error')\n",
    "print(mean_absolute_error(y_test, y_predict))\n",
    "print('R2 Score')\n",
    "print(r2_score(y_test, y_predict))\n",
    "\n",
    "print('\\n')\n",
    "\n",
    "print('Bayesian Ridge Regression w/ PCA')\n",
    "print('Optimal Parameters')\n",
    "print(params_optimal_br_pca)\n",
    "print('Mean Absolute Error')\n",
    "print(mean_absolute_error(y_test_pca, y_predict_pca))\n",
    "print('R2 Score')\n",
    "print(r2_score(y_test_pca, y_predict_pca))"
   ]
  },
  {
   "cell_type": "markdown",
   "metadata": {},
   "source": [
    "## Stochastic Gradient Descent"
   ]
  },
  {
   "cell_type": "code",
   "execution_count": 19,
   "metadata": {},
   "outputs": [
    {
     "name": "stderr",
     "output_type": "stream",
     "text": [
      "[Parallel(n_jobs=-1)]: Using backend LokyBackend with 8 concurrent workers.\n"
     ]
    },
    {
     "name": "stdout",
     "output_type": "stream",
     "text": [
      "Fitting 10 folds for each of 81 candidates, totalling 810 fits\n"
     ]
    },
    {
     "name": "stderr",
     "output_type": "stream",
     "text": [
      "[Parallel(n_jobs=-1)]: Done  34 tasks      | elapsed:    0.1s\n",
      "[Parallel(n_jobs=-1)]: Done 749 tasks      | elapsed:    6.3s\n",
      "[Parallel(n_jobs=-1)]: Done 810 out of 810 | elapsed:    6.7s finished\n"
     ]
    }
   ],
   "source": [
    "param_grid = {'alpha': [0.001, .00001, .000001], 'penalty': ['elasticnet'],\n",
    "              'l1_ratio': [0.5, 0.2, 0.1], 'max_iter':[15000, 20000, 30000],'eta0': [.1, .01, 0.001]}\n",
    "\n",
    "sgd = SGDRegressor()\n",
    "sgd_cv = GridSearchCV(sgd, param_grid, scoring='neg_mean_absolute_error', cv=10, verbose=2, n_jobs=-1)\n",
    "\n",
    "sgd_cv.fit(X_train, y_train)\n",
    "\n",
    "params_optimal_sgd = sgd_cv.best_params_\n",
    "\n",
    "optimal_sgd = SGDRegressor(**params_optimal_sgd)\n",
    "\n",
    "optimal_sgd.fit(X_train, y_train)\n",
    "\n",
    "y_predict = optimal_sgd.predict(X_test)"
   ]
  },
  {
   "cell_type": "code",
   "execution_count": 20,
   "metadata": {},
   "outputs": [
    {
     "name": "stderr",
     "output_type": "stream",
     "text": [
      "[Parallel(n_jobs=-1)]: Using backend LokyBackend with 8 concurrent workers.\n",
      "[Parallel(n_jobs=-1)]: Done  34 tasks      | elapsed:    0.0s\n"
     ]
    },
    {
     "name": "stdout",
     "output_type": "stream",
     "text": [
      "Fitting 10 folds for each of 81 candidates, totalling 810 fits\n"
     ]
    },
    {
     "name": "stderr",
     "output_type": "stream",
     "text": [
      "[Parallel(n_jobs=-1)]: Done 749 tasks      | elapsed:    4.6s\n",
      "[Parallel(n_jobs=-1)]: Done 810 out of 810 | elapsed:    4.9s finished\n"
     ]
    }
   ],
   "source": [
    "sgd_pca_cv = GridSearchCV(sgd, param_grid, scoring='neg_mean_absolute_error', cv=10, verbose=2, n_jobs=-1)\n",
    "\n",
    "sgd_pca_cv.fit(X_train_pca, y_train_pca)\n",
    "\n",
    "params_optimal_sgd_pca = sgd_pca_cv.best_params_\n",
    "\n",
    "optimal_sgd_pca = SGDRegressor(**params_optimal_sgd_pca)\n",
    "\n",
    "optimal_sgd_pca.fit(X_train_pca, y_train_pca)\n",
    "\n",
    "y_predict_pca = optimal_sgd_pca.predict(X_test_pca)"
   ]
  },
  {
   "cell_type": "code",
   "execution_count": 21,
   "metadata": {},
   "outputs": [
    {
     "name": "stdout",
     "output_type": "stream",
     "text": [
      "Stochastic Gradient Descent\n",
      "Optimal Parameters\n",
      "{'alpha': 1e-06, 'eta0': 0.1, 'l1_ratio': 0.1, 'max_iter': 20000, 'penalty': 'elasticnet'}\n",
      "Mean Absolute Error\n",
      "1.4861573892134408\n",
      "R2 Score\n",
      "0.5107776981026959\n",
      "\n",
      "\n",
      "Stochastic Gradient Descent w/ PCA\n",
      "Optimal Parameters\n",
      "{'alpha': 1e-05, 'eta0': 0.1, 'l1_ratio': 0.5, 'max_iter': 15000, 'penalty': 'elasticnet'}\n",
      "Mean Absolute Error\n",
      "1.444952381792548\n",
      "R2 Score\n",
      "0.503734120054897\n"
     ]
    }
   ],
   "source": [
    "print('Stochastic Gradient Descent')\n",
    "print('Optimal Parameters')\n",
    "print(params_optimal_sgd)\n",
    "print('Mean Absolute Error')\n",
    "print(mean_absolute_error(y_test, y_predict))\n",
    "print('R2 Score')\n",
    "print(r2_score(y_test, y_predict))\n",
    "\n",
    "print('\\n')\n",
    "\n",
    "print('Stochastic Gradient Descent w/ PCA')\n",
    "print('Optimal Parameters')\n",
    "print(params_optimal_sgd_pca)\n",
    "print('Mean Absolute Error')\n",
    "print(mean_absolute_error(y_test_pca, y_predict_pca))\n",
    "print('R2 Score')\n",
    "print(r2_score(y_test_pca, y_predict_pca))"
   ]
  },
  {
   "cell_type": "markdown",
   "metadata": {},
   "source": [
    "## Random Forest Regressor"
   ]
  },
  {
   "cell_type": "code",
   "execution_count": 22,
   "metadata": {},
   "outputs": [
    {
     "name": "stderr",
     "output_type": "stream",
     "text": [
      "[Parallel(n_jobs=-1)]: Using backend LokyBackend with 8 concurrent workers.\n"
     ]
    },
    {
     "name": "stdout",
     "output_type": "stream",
     "text": [
      "Fitting 10 folds for each of 9 candidates, totalling 90 fits\n"
     ]
    },
    {
     "name": "stderr",
     "output_type": "stream",
     "text": [
      "[Parallel(n_jobs=-1)]: Done  25 tasks      | elapsed:   28.5s\n",
      "[Parallel(n_jobs=-1)]: Done  90 out of  90 | elapsed:  1.6min finished\n"
     ]
    }
   ],
   "source": [
    "param_grid = {'n_estimators': [50, 500, 1500], 'min_samples_split': [10, 25, 50]}\n",
    "\n",
    "rf = RandomForestRegressor()\n",
    "rf_cv = GridSearchCV(rf, param_grid, scoring='neg_mean_absolute_error', cv = 10, verbose=2, n_jobs=-1)\n",
    "\n",
    "rf_cv.fit(X_train, y_train)\n",
    "\n",
    "params_optimal_rf = rf_cv.best_params_\n",
    "\n",
    "optimal_rf = RandomForestRegressor(**params_optimal_rf)\n",
    "\n",
    "optimal_rf.fit(X_train, y_train)\n",
    "\n",
    "y_predict = optimal_rf.predict(X_test)"
   ]
  },
  {
   "cell_type": "code",
   "execution_count": 23,
   "metadata": {},
   "outputs": [
    {
     "name": "stdout",
     "output_type": "stream",
     "text": [
      "Fitting 10 folds for each of 9 candidates, totalling 90 fits\n"
     ]
    },
    {
     "name": "stderr",
     "output_type": "stream",
     "text": [
      "[Parallel(n_jobs=-1)]: Using backend LokyBackend with 8 concurrent workers.\n",
      "[Parallel(n_jobs=-1)]: Done  25 tasks      | elapsed:   17.7s\n",
      "[Parallel(n_jobs=-1)]: Done  90 out of  90 | elapsed:  1.1min finished\n"
     ]
    }
   ],
   "source": [
    "rf_pca_cv = GridSearchCV(rf, param_grid, scoring='neg_mean_absolute_error', cv = 10, verbose=2, n_jobs=-1)\n",
    "\n",
    "rf_pca_cv.fit(X_train_pca, y_train_pca)\n",
    "\n",
    "params_optimal_rf_pca = rf_pca_cv.best_params_\n",
    "\n",
    "optimal_rf_pca = RandomForestRegressor(**params_optimal_rf_pca)\n",
    "\n",
    "optimal_rf_pca.fit(X_train_pca, y_train_pca)\n",
    "\n",
    "y_predict_pca = optimal_rf_pca.predict(X_test_pca)"
   ]
  },
  {
   "cell_type": "code",
   "execution_count": 24,
   "metadata": {},
   "outputs": [
    {
     "name": "stdout",
     "output_type": "stream",
     "text": [
      "Random Forest Regressor\n",
      "Optimal Parameters\n",
      "{'min_samples_split': 25, 'n_estimators': 1500}\n",
      "Mean Absolute Error\n",
      "1.3775921763352423\n",
      "R2 Score\n",
      "0.563206082942264\n",
      "\n",
      "\n",
      "Random Forest Regressor w/ PCA\n",
      "Optimal Parameters\n",
      "{'min_samples_split': 50, 'n_estimators': 1500}\n",
      "Mean Absolute Error\n",
      "1.3380908314906814\n",
      "R2 Score\n",
      "0.5361558416150738\n"
     ]
    }
   ],
   "source": [
    "print('Random Forest Regressor')\n",
    "print('Optimal Parameters')\n",
    "print(params_optimal_rf)\n",
    "print('Mean Absolute Error')\n",
    "print(mean_absolute_error(y_test, y_predict))\n",
    "print('R2 Score')\n",
    "print(r2_score(y_test, y_predict))\n",
    "\n",
    "print('\\n')\n",
    "\n",
    "print('Random Forest Regressor w/ PCA')\n",
    "print('Optimal Parameters')\n",
    "print(params_optimal_rf_pca)\n",
    "print('Mean Absolute Error')\n",
    "print(mean_absolute_error(y_test_pca, y_predict_pca))\n",
    "print('R2 Score')\n",
    "print(r2_score(y_test_pca, y_predict_pca))"
   ]
  },
  {
   "cell_type": "code",
   "execution_count": null,
   "metadata": {},
   "outputs": [],
   "source": []
  }
 ],
 "metadata": {
  "kernelspec": {
   "display_name": "Python 3",
   "language": "python",
   "name": "python3"
  },
  "language_info": {
   "codemirror_mode": {
    "name": "ipython",
    "version": 3
   },
   "file_extension": ".py",
   "mimetype": "text/x-python",
   "name": "python",
   "nbconvert_exporter": "python",
   "pygments_lexer": "ipython3",
   "version": "3.8.5"
  }
 },
 "nbformat": 4,
 "nbformat_minor": 4
}
